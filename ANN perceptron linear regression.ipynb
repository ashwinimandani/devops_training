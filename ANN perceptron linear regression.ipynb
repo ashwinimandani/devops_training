{
 "cells": [
  {
   "cell_type": "code",
   "execution_count": 39,
   "metadata": {},
   "outputs": [],
   "source": [
    "import pandas as pd"
   ]
  },
  {
   "cell_type": "code",
   "execution_count": 40,
   "metadata": {},
   "outputs": [],
   "source": [
    "dataset = pd.read_csv('weight-height.csv')"
   ]
  },
  {
   "cell_type": "code",
   "execution_count": 41,
   "metadata": {},
   "outputs": [
    {
     "name": "stdout",
     "output_type": "stream",
     "text": [
      "<class 'pandas.core.frame.DataFrame'>\n",
      "RangeIndex: 10000 entries, 0 to 9999\n",
      "Data columns (total 3 columns):\n",
      " #   Column  Non-Null Count  Dtype  \n",
      "---  ------  --------------  -----  \n",
      " 0   Gender  10000 non-null  object \n",
      " 1   Height  10000 non-null  float64\n",
      " 2   Weight  10000 non-null  float64\n",
      "dtypes: float64(2), object(1)\n",
      "memory usage: 234.5+ KB\n"
     ]
    }
   ],
   "source": [
    "dataset.info()"
   ]
  },
  {
   "cell_type": "code",
   "execution_count": 42,
   "metadata": {},
   "outputs": [
    {
     "data": {
      "text/plain": [
       "Index(['Gender', 'Height', 'Weight'], dtype='object')"
      ]
     },
     "execution_count": 42,
     "metadata": {},
     "output_type": "execute_result"
    }
   ],
   "source": [
    "dataset.columns"
   ]
  },
  {
   "cell_type": "code",
   "execution_count": 43,
   "metadata": {},
   "outputs": [],
   "source": [
    "y = dataset['Weight']"
   ]
  },
  {
   "cell_type": "code",
   "execution_count": 44,
   "metadata": {},
   "outputs": [],
   "source": [
    "X = dataset['Height']"
   ]
  },
  {
   "cell_type": "code",
   "execution_count": 45,
   "metadata": {},
   "outputs": [],
   "source": [
    "from keras.models import Sequential"
   ]
  },
  {
   "cell_type": "code",
   "execution_count": 46,
   "metadata": {},
   "outputs": [],
   "source": [
    "from keras.layers import Dense"
   ]
  },
  {
   "cell_type": "code",
   "execution_count": 47,
   "metadata": {},
   "outputs": [],
   "source": [
    "from keras.optimizers import Adam"
   ]
  },
  {
   "cell_type": "code",
   "execution_count": 48,
   "metadata": {},
   "outputs": [],
   "source": [
    "model = Sequential()"
   ]
  },
  {
   "cell_type": "code",
   "execution_count": 49,
   "metadata": {},
   "outputs": [],
   "source": [
    "# by default : linear activation functions\n",
    "# units : output\n",
    "# input shape: input feature\n",
    "# dense: how many hidden layer\n",
    "model.add(Dense(units=1 , input_shape=(1,)  ))"
   ]
  },
  {
   "cell_type": "code",
   "execution_count": 50,
   "metadata": {},
   "outputs": [
    {
     "name": "stdout",
     "output_type": "stream",
     "text": [
      "Model: \"sequential_2\"\n",
      "_________________________________________________________________\n",
      "Layer (type)                 Output Shape              Param #   \n",
      "=================================================================\n",
      "dense_2 (Dense)              (None, 1)                 2         \n",
      "=================================================================\n",
      "Total params: 2\n",
      "Trainable params: 2\n",
      "Non-trainable params: 0\n",
      "_________________________________________________________________\n"
     ]
    }
   ],
   "source": [
    "model.summary()"
   ]
  },
  {
   "cell_type": "code",
   "execution_count": 51,
   "metadata": {},
   "outputs": [],
   "source": [
    "model.compile(loss='mean_squared_error', optimizer=Adam(learning_rate=0.000001) )"
   ]
  },
  {
   "cell_type": "code",
   "execution_count": 74,
   "metadata": {},
   "outputs": [
    {
     "name": "stdout",
     "output_type": "stream",
     "text": [
      "Epoch 1/100\n",
      "7500/7500 [==============================] - 0s 23us/step - loss: 8062.9256\n",
      "Epoch 2/100\n",
      "7500/7500 [==============================] - 0s 22us/step - loss: 8060.2795\n",
      "Epoch 3/100\n",
      "7500/7500 [==============================] - 0s 22us/step - loss: 8057.6266\n",
      "Epoch 4/100\n",
      "7500/7500 [==============================] - 0s 22us/step - loss: 8054.9648\n",
      "Epoch 5/100\n",
      "7500/7500 [==============================] - 0s 22us/step - loss: 8052.3098\n",
      "Epoch 6/100\n",
      "7500/7500 [==============================] - 0s 39us/step - loss: 8049.6362\n",
      "Epoch 7/100\n",
      "7500/7500 [==============================] - 0s 49us/step - loss: 8046.9535\n",
      "Epoch 8/100\n",
      "7500/7500 [==============================] - 0s 46us/step - loss: 8044.3076\n",
      "Epoch 9/100\n",
      "7500/7500 [==============================] - 0s 45us/step - loss: 8041.6460\n",
      "Epoch 10/100\n",
      "7500/7500 [==============================] - 0s 46us/step - loss: 8038.9989\n",
      "Epoch 11/100\n",
      "7500/7500 [==============================] - 0s 46us/step - loss: 8036.3511\n",
      "Epoch 12/100\n",
      "7500/7500 [==============================] - 0s 46us/step - loss: 8033.7175\n",
      "Epoch 13/100\n",
      "7500/7500 [==============================] - 0s 31us/step - loss: 8031.0757\n",
      "Epoch 14/100\n",
      "7500/7500 [==============================] - 0s 22us/step - loss: 8028.4309\n",
      "Epoch 15/100\n",
      "7500/7500 [==============================] - 0s 22us/step - loss: 8025.7718\n",
      "Epoch 16/100\n",
      "7500/7500 [==============================] - 0s 22us/step - loss: 8023.1233\n",
      "Epoch 17/100\n",
      "7500/7500 [==============================] - 0s 22us/step - loss: 8020.4704\n",
      "Epoch 18/100\n",
      "7500/7500 [==============================] - 0s 22us/step - loss: 8017.8307\n",
      "Epoch 19/100\n",
      "7500/7500 [==============================] - 0s 23us/step - loss: 8015.1745\n",
      "Epoch 20/100\n",
      "7500/7500 [==============================] - 0s 22us/step - loss: 8012.4944\n",
      "Epoch 21/100\n",
      "7500/7500 [==============================] - 0s 23us/step - loss: 8009.8387\n",
      "Epoch 22/100\n",
      "7500/7500 [==============================] - 0s 23us/step - loss: 8007.1854\n",
      "Epoch 23/100\n",
      "7500/7500 [==============================] - 0s 23us/step - loss: 8004.5358\n",
      "Epoch 24/100\n",
      "7500/7500 [==============================] - 0s 22us/step - loss: 8001.8923\n",
      "Epoch 25/100\n",
      "7500/7500 [==============================] - 0s 22us/step - loss: 7999.2403\n",
      "Epoch 26/100\n",
      "7500/7500 [==============================] - 0s 22us/step - loss: 7996.5704\n",
      "Epoch 27/100\n",
      "7500/7500 [==============================] - 0s 22us/step - loss: 7993.9092\n",
      "Epoch 28/100\n",
      "7500/7500 [==============================] - 0s 23us/step - loss: 7991.2653\n",
      "Epoch 29/100\n",
      "7500/7500 [==============================] - 0s 22us/step - loss: 7988.6147\n",
      "Epoch 30/100\n",
      "7500/7500 [==============================] - 0s 22us/step - loss: 7985.9595\n",
      "Epoch 31/100\n",
      "7500/7500 [==============================] - 0s 22us/step - loss: 7983.3037\n",
      "Epoch 32/100\n",
      "7500/7500 [==============================] - 0s 30us/step - loss: 7980.6571\n",
      "Epoch 33/100\n",
      "7500/7500 [==============================] - 0s 47us/step - loss: 7978.0084\n",
      "Epoch 34/100\n",
      "7500/7500 [==============================] - 0s 46us/step - loss: 7975.3432\n",
      "Epoch 35/100\n",
      "7500/7500 [==============================] - 0s 48us/step - loss: 7972.6989\n",
      "Epoch 36/100\n",
      "7500/7500 [==============================] - 0s 46us/step - loss: 7970.0795\n",
      "Epoch 37/100\n",
      "7500/7500 [==============================] - 0s 47us/step - loss: 7967.4566\n",
      "Epoch 38/100\n",
      "7500/7500 [==============================] - 0s 48us/step - loss: 7964.8235\n",
      "Epoch 39/100\n",
      "7500/7500 [==============================] - 0s 46us/step - loss: 7962.1760\n",
      "Epoch 40/100\n",
      "7500/7500 [==============================] - 0s 46us/step - loss: 7959.5215\n",
      "Epoch 41/100\n",
      "7500/7500 [==============================] - 0s 49us/step - loss: 7956.8605\n",
      "Epoch 42/100\n",
      "7500/7500 [==============================] - 0s 52us/step - loss: 7954.2213\n",
      "Epoch 43/100\n",
      "7500/7500 [==============================] - 0s 51us/step - loss: 7951.5961\n",
      "Epoch 44/100\n",
      "7500/7500 [==============================] - 0s 49us/step - loss: 7948.9587\n",
      "Epoch 45/100\n",
      "7500/7500 [==============================] - 0s 47us/step - loss: 7946.3284\n",
      "Epoch 46/100\n",
      "7500/7500 [==============================] - 0s 46us/step - loss: 7943.6806\n",
      "Epoch 47/100\n",
      "7500/7500 [==============================] - 0s 47us/step - loss: 7941.0335\n",
      "Epoch 48/100\n",
      "7500/7500 [==============================] - 0s 46us/step - loss: 7938.4020 0s - los\n",
      "Epoch 49/100\n",
      "7500/7500 [==============================] - 0s 47us/step - loss: 7935.7661\n",
      "Epoch 50/100\n",
      "7500/7500 [==============================] - 0s 47us/step - loss: 7933.1220\n",
      "Epoch 51/100\n",
      "7500/7500 [==============================] - 0s 50us/step - loss: 7930.4847\n",
      "Epoch 52/100\n",
      "7500/7500 [==============================] - 0s 46us/step - loss: 7927.8442\n",
      "Epoch 53/100\n",
      "7500/7500 [==============================] - 0s 47us/step - loss: 7925.2098\n",
      "Epoch 54/100\n",
      "7500/7500 [==============================] - 0s 40us/step - loss: 7922.5830\n",
      "Epoch 55/100\n",
      "7500/7500 [==============================] - 0s 25us/step - loss: 7919.9386\n",
      "Epoch 56/100\n",
      "7500/7500 [==============================] - 0s 22us/step - loss: 7917.3046\n",
      "Epoch 57/100\n",
      "7500/7500 [==============================] - 0s 21us/step - loss: 7914.6882\n",
      "Epoch 58/100\n",
      "7500/7500 [==============================] - 0s 22us/step - loss: 7912.0660\n",
      "Epoch 59/100\n",
      "7500/7500 [==============================] - 0s 22us/step - loss: 7909.4445\n",
      "Epoch 60/100\n",
      "7500/7500 [==============================] - 0s 21us/step - loss: 7906.8289\n",
      "Epoch 61/100\n",
      "7500/7500 [==============================] - 0s 21us/step - loss: 7904.2013\n",
      "Epoch 62/100\n",
      "7500/7500 [==============================] - 0s 21us/step - loss: 7901.5666\n",
      "Epoch 63/100\n",
      "7500/7500 [==============================] - 0s 22us/step - loss: 7898.9190\n",
      "Epoch 64/100\n",
      "7500/7500 [==============================] - 0s 21us/step - loss: 7896.2899\n",
      "Epoch 65/100\n",
      "7500/7500 [==============================] - 0s 21us/step - loss: 7893.6401\n",
      "Epoch 66/100\n",
      "7500/7500 [==============================] - 0s 22us/step - loss: 7891.0194\n",
      "Epoch 67/100\n",
      "7500/7500 [==============================] - 0s 22us/step - loss: 7888.3864\n",
      "Epoch 68/100\n",
      "7500/7500 [==============================] - 0s 24us/step - loss: 7885.7507\n",
      "Epoch 69/100\n",
      "7500/7500 [==============================] - 0s 22us/step - loss: 7883.1279\n",
      "Epoch 70/100\n",
      "7500/7500 [==============================] - 0s 22us/step - loss: 7880.4959\n",
      "Epoch 71/100\n",
      "7500/7500 [==============================] - 0s 26us/step - loss: 7877.8513\n",
      "Epoch 72/100\n",
      "7500/7500 [==============================] - 0s 26us/step - loss: 7875.2112\n",
      "Epoch 73/100\n",
      "7500/7500 [==============================] - 0s 23us/step - loss: 7872.5798\n",
      "Epoch 74/100\n",
      "7500/7500 [==============================] - ETA: 0s - loss: 7872.39 - 0s 22us/step - loss: 7869.9625\n",
      "Epoch 75/100\n",
      "7500/7500 [==============================] - 0s 39us/step - loss: 7867.3248\n",
      "Epoch 76/100\n",
      "7500/7500 [==============================] - 0s 45us/step - loss: 7864.6898\n",
      "Epoch 77/100\n",
      "7500/7500 [==============================] - 0s 51us/step - loss: 7862.0423\n",
      "Epoch 78/100\n",
      "7500/7500 [==============================] - 0s 49us/step - loss: 7859.4093\n",
      "Epoch 79/100\n",
      "7500/7500 [==============================] - 0s 47us/step - loss: 7856.7805\n",
      "Epoch 80/100\n",
      "7500/7500 [==============================] - 0s 47us/step - loss: 7854.1607 0s - loss: 7\n",
      "Epoch 81/100\n",
      "7500/7500 [==============================] - 0s 47us/step - loss: 7851.5397\n",
      "Epoch 82/100\n",
      "7500/7500 [==============================] - 0s 48us/step - loss: 7848.9060\n",
      "Epoch 83/100\n",
      "7500/7500 [==============================] - 0s 51us/step - loss: 7846.2977\n",
      "Epoch 84/100\n",
      "7500/7500 [==============================] - 0s 47us/step - loss: 7843.6735\n",
      "Epoch 85/100\n",
      "7500/7500 [==============================] - 0s 49us/step - loss: 7841.0631\n",
      "Epoch 86/100\n",
      "7500/7500 [==============================] - 0s 47us/step - loss: 7838.4263\n",
      "Epoch 87/100\n",
      "7500/7500 [==============================] - 0s 47us/step - loss: 7835.7838\n",
      "Epoch 88/100\n",
      "7500/7500 [==============================] - 0s 46us/step - loss: 7833.1581\n",
      "Epoch 89/100\n",
      "7500/7500 [==============================] - ETA: 0s - loss: 7845.04 - 0s 46us/step - loss: 7830.5542\n",
      "Epoch 90/100\n",
      "7500/7500 [==============================] - 0s 46us/step - loss: 7827.9353\n",
      "Epoch 91/100\n",
      "7500/7500 [==============================] - 0s 46us/step - loss: 7825.3128\n",
      "Epoch 92/100\n"
     ]
    },
    {
     "name": "stdout",
     "output_type": "stream",
     "text": [
      "7500/7500 [==============================] - 0s 46us/step - loss: 7822.6916\n",
      "Epoch 93/100\n",
      "7500/7500 [==============================] - 0s 43us/step - loss: 7820.0489\n",
      "Epoch 94/100\n",
      "7500/7500 [==============================] - 0s 31us/step - loss: 7817.4227\n",
      "Epoch 95/100\n",
      "7500/7500 [==============================] - 0s 22us/step - loss: 7814.7956\n",
      "Epoch 96/100\n",
      "7500/7500 [==============================] - 0s 22us/step - loss: 7812.1791\n",
      "Epoch 97/100\n",
      "7500/7500 [==============================] - 0s 22us/step - loss: 7809.5694\n",
      "Epoch 98/100\n",
      "7500/7500 [==============================] - 0s 22us/step - loss: 7806.9534\n",
      "Epoch 99/100\n",
      "7500/7500 [==============================] - 0s 22us/step - loss: 7804.3224\n",
      "Epoch 100/100\n",
      "7500/7500 [==============================] - 0s 23us/step - loss: 7801.6993\n"
     ]
    },
    {
     "data": {
      "text/plain": [
       "<keras.callbacks.callbacks.History at 0x2c3d486b348>"
      ]
     },
     "execution_count": 74,
     "metadata": {},
     "output_type": "execute_result"
    }
   ],
   "source": [
    "from sklearn.model_selection import train_test_split\n",
    "x_train,x_test,y_train,y_test=train_test_split(X,y)\n",
    "model.fit(x_train,y_train,epochs=100)"
   ]
  },
  {
   "cell_type": "code",
   "execution_count": 75,
   "metadata": {},
   "outputs": [],
   "source": [
    "y_pred=model.predict(x_test)\n",
    "list1=[]"
   ]
  },
  {
   "cell_type": "code",
   "execution_count": 76,
   "metadata": {},
   "outputs": [
    {
     "data": {
      "text/plain": [
       "array([77.30364], dtype=float32)"
      ]
     },
     "execution_count": 76,
     "metadata": {},
     "output_type": "execute_result"
    }
   ],
   "source": [
    "# for i in range(len(y_pred)):\n",
    "#     list1.append(abs(y_pred[i]-y_test[i]))\n",
    "y_pred[5]"
   ]
  },
  {
   "cell_type": "code",
   "execution_count": 77,
   "metadata": {},
   "outputs": [],
   "source": [
    "for i in range(len(y_pred)):\n",
    "    list1.append((abs(y_pred[i]-y_test.values[i])/y_test.values[i])*100)"
   ]
  },
  {
   "cell_type": "markdown",
   "metadata": {},
   "source": [
    "# "
   ]
  },
  {
   "cell_type": "code",
   "execution_count": 80,
   "metadata": {},
   "outputs": [
    {
     "data": {
      "text/plain": [
       "array([72.49113], dtype=float32)"
      ]
     },
     "execution_count": 80,
     "metadata": {},
     "output_type": "execute_result"
    }
   ],
   "source": [
    "y_pred[1]"
   ]
  },
  {
   "cell_type": "code",
   "execution_count": 72,
   "metadata": {},
   "outputs": [
    {
     "data": {
      "text/plain": [
       "array([179.31023291, 198.02356346, 166.12286078, ..., 168.07789936,\n",
       "       167.79116917, 120.55501717])"
      ]
     },
     "execution_count": 72,
     "metadata": {},
     "output_type": "execute_result"
    }
   ],
   "source": [
    "y_test.values"
   ]
  },
  {
   "cell_type": "code",
   "execution_count": null,
   "metadata": {},
   "outputs": [],
   "source": []
  }
 ],
 "metadata": {
  "kernelspec": {
   "display_name": "Python 3",
   "language": "python",
   "name": "python3"
  },
  "language_info": {
   "codemirror_mode": {
    "name": "ipython",
    "version": 3
   },
   "file_extension": ".py",
   "mimetype": "text/x-python",
   "name": "python",
   "nbconvert_exporter": "python",
   "pygments_lexer": "ipython3",
   "version": "3.7.7"
  }
 },
 "nbformat": 4,
 "nbformat_minor": 4
}
